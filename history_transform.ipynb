{
 "cells": [
  {
   "cell_type": "code",
   "execution_count": 9,
   "metadata": {},
   "outputs": [],
   "source": [
    "import pandas as pd"
   ]
  },
  {
   "cell_type": "code",
   "execution_count": 10,
   "metadata": {},
   "outputs": [],
   "source": [
    "wrecks = pd.read_csv('Resources/wrecks_history.csv')"
   ]
  },
  {
   "cell_type": "code",
   "execution_count": 11,
   "metadata": {},
   "outputs": [],
   "source": [
    "obstructs = pd.read_csv('Resources/obstruct_history.csv')"
   ]
  },
  {
   "cell_type": "code",
   "execution_count": 12,
   "metadata": {},
   "outputs": [
    {
     "data": {
      "text/html": [
       "<div>\n",
       "<style scoped>\n",
       "    .dataframe tbody tr th:only-of-type {\n",
       "        vertical-align: middle;\n",
       "    }\n",
       "\n",
       "    .dataframe tbody tr th {\n",
       "        vertical-align: top;\n",
       "    }\n",
       "\n",
       "    .dataframe thead th {\n",
       "        text-align: right;\n",
       "    }\n",
       "</style>\n",
       "<table border=\"1\" class=\"dataframe\">\n",
       "  <thead>\n",
       "    <tr style=\"text-align: right;\">\n",
       "      <th></th>\n",
       "      <th>Record #</th>\n",
       "      <th>History</th>\n",
       "    </tr>\n",
       "  </thead>\n",
       "  <tbody>\n",
       "    <tr>\n",
       "      <th>0</th>\n",
       "      <td>14620</td>\n",
       "      <td>F00542: S-W904-NRT4-07; Office review indica...</td>\n",
       "    </tr>\n",
       "    <tr>\n",
       "      <th>1</th>\n",
       "      <td>14292</td>\n",
       "      <td>H11689/2007-- S-w920-NRT4-07;  Dangerous sub...</td>\n",
       "    </tr>\n",
       "    <tr>\n",
       "      <th>2</th>\n",
       "      <td>14296</td>\n",
       "      <td>H11689/2007-- S-W920-NRT4-07;  A large subme...</td>\n",
       "    </tr>\n",
       "    <tr>\n",
       "      <th>3</th>\n",
       "      <td>14298</td>\n",
       "      <td>H11689/2007-- S-W920-NRT4-07;  A submerged w...</td>\n",
       "    </tr>\n",
       "    <tr>\n",
       "      <th>4</th>\n",
       "      <td>14207</td>\n",
       "      <td>CL 1883/1999--  The Canadian Hydrographic Se...</td>\n",
       "    </tr>\n",
       "  </tbody>\n",
       "</table>\n",
       "</div>"
      ],
      "text/plain": [
       "   Record #                                            History\n",
       "0     14620    F00542: S-W904-NRT4-07; Office review indica...\n",
       "1     14292    H11689/2007-- S-w920-NRT4-07;  Dangerous sub...\n",
       "2     14296    H11689/2007-- S-W920-NRT4-07;  A large subme...\n",
       "3     14298    H11689/2007-- S-W920-NRT4-07;  A submerged w...\n",
       "4     14207    CL 1883/1999--  The Canadian Hydrographic Se..."
      ]
     },
     "execution_count": 12,
     "metadata": {},
     "output_type": "execute_result"
    }
   ],
   "source": [
    "wrecks.head()"
   ]
  },
  {
   "cell_type": "code",
   "execution_count": 14,
   "metadata": {},
   "outputs": [],
   "source": [
    "obstructs = obstructs.fillna(0)\n",
    "obstructs[\"Record #\"] = obstructs[\"Record #\"].astype(int)"
   ]
  },
  {
   "cell_type": "code",
   "execution_count": 15,
   "metadata": {},
   "outputs": [
    {
     "data": {
      "text/html": [
       "<div>\n",
       "<style scoped>\n",
       "    .dataframe tbody tr th:only-of-type {\n",
       "        vertical-align: middle;\n",
       "    }\n",
       "\n",
       "    .dataframe tbody tr th {\n",
       "        vertical-align: top;\n",
       "    }\n",
       "\n",
       "    .dataframe thead th {\n",
       "        text-align: right;\n",
       "    }\n",
       "</style>\n",
       "<table border=\"1\" class=\"dataframe\">\n",
       "  <thead>\n",
       "    <tr style=\"text-align: right;\">\n",
       "      <th></th>\n",
       "      <th>Record #</th>\n",
       "      <th>HISTORY</th>\n",
       "    </tr>\n",
       "  </thead>\n",
       "  <tbody>\n",
       "    <tr>\n",
       "      <th>0</th>\n",
       "      <td>54094</td>\n",
       "      <td>H12450/2012; NOS -- Investigated by NOAA SHIP ...</td>\n",
       "    </tr>\n",
       "    <tr>\n",
       "      <th>1</th>\n",
       "      <td>53696</td>\n",
       "      <td>H10916(1999)-- Dolphin at the end of pier in r...</td>\n",
       "    </tr>\n",
       "    <tr>\n",
       "      <th>2</th>\n",
       "      <td>53695</td>\n",
       "      <td>H10916(1999)-- Submerged pile along wharf (EAN...</td>\n",
       "    </tr>\n",
       "    <tr>\n",
       "      <th>3</th>\n",
       "      <td>53719</td>\n",
       "      <td>-LNM09/95--17th CGD, 02/28/95: Submerged buoy ...</td>\n",
       "    </tr>\n",
       "    <tr>\n",
       "      <th>4</th>\n",
       "      <td>53721</td>\n",
       "      <td>--LNM09/95--17th CGD, 02/28/95: Submerged buoy...</td>\n",
       "    </tr>\n",
       "  </tbody>\n",
       "</table>\n",
       "</div>"
      ],
      "text/plain": [
       "   Record #                                            HISTORY\n",
       "0     54094  H12450/2012; NOS -- Investigated by NOAA SHIP ...\n",
       "1     53696  H10916(1999)-- Dolphin at the end of pier in r...\n",
       "2     53695  H10916(1999)-- Submerged pile along wharf (EAN...\n",
       "3     53719  -LNM09/95--17th CGD, 02/28/95: Submerged buoy ...\n",
       "4     53721  --LNM09/95--17th CGD, 02/28/95: Submerged buoy..."
      ]
     },
     "execution_count": 15,
     "metadata": {},
     "output_type": "execute_result"
    }
   ],
   "source": [
    "obstructs.head()"
   ]
  },
  {
   "cell_type": "code",
   "execution_count": 17,
   "metadata": {},
   "outputs": [],
   "source": [
    "dfs = [wrecks, obstructs]"
   ]
  },
  {
   "cell_type": "code",
   "execution_count": 18,
   "metadata": {},
   "outputs": [],
   "source": [
    "history_df = pd.concat(dfs)"
   ]
  },
  {
   "cell_type": "code",
   "execution_count": 19,
   "metadata": {},
   "outputs": [
    {
     "data": {
      "text/html": [
       "<div>\n",
       "<style scoped>\n",
       "    .dataframe tbody tr th:only-of-type {\n",
       "        vertical-align: middle;\n",
       "    }\n",
       "\n",
       "    .dataframe tbody tr th {\n",
       "        vertical-align: top;\n",
       "    }\n",
       "\n",
       "    .dataframe thead th {\n",
       "        text-align: right;\n",
       "    }\n",
       "</style>\n",
       "<table border=\"1\" class=\"dataframe\">\n",
       "  <thead>\n",
       "    <tr style=\"text-align: right;\">\n",
       "      <th></th>\n",
       "      <th>Record #</th>\n",
       "      <th>History</th>\n",
       "      <th>HISTORY</th>\n",
       "    </tr>\n",
       "  </thead>\n",
       "  <tbody>\n",
       "    <tr>\n",
       "      <th>0</th>\n",
       "      <td>14620</td>\n",
       "      <td>F00542: S-W904-NRT4-07; Office review indica...</td>\n",
       "      <td>NaN</td>\n",
       "    </tr>\n",
       "    <tr>\n",
       "      <th>1</th>\n",
       "      <td>14292</td>\n",
       "      <td>H11689/2007-- S-w920-NRT4-07;  Dangerous sub...</td>\n",
       "      <td>NaN</td>\n",
       "    </tr>\n",
       "    <tr>\n",
       "      <th>2</th>\n",
       "      <td>14296</td>\n",
       "      <td>H11689/2007-- S-W920-NRT4-07;  A large subme...</td>\n",
       "      <td>NaN</td>\n",
       "    </tr>\n",
       "    <tr>\n",
       "      <th>3</th>\n",
       "      <td>14298</td>\n",
       "      <td>H11689/2007-- S-W920-NRT4-07;  A submerged w...</td>\n",
       "      <td>NaN</td>\n",
       "    </tr>\n",
       "    <tr>\n",
       "      <th>4</th>\n",
       "      <td>14207</td>\n",
       "      <td>CL 1883/1999--  The Canadian Hydrographic Se...</td>\n",
       "      <td>NaN</td>\n",
       "    </tr>\n",
       "  </tbody>\n",
       "</table>\n",
       "</div>"
      ],
      "text/plain": [
       "   Record #                                            History HISTORY\n",
       "0     14620    F00542: S-W904-NRT4-07; Office review indica...     NaN\n",
       "1     14292    H11689/2007-- S-w920-NRT4-07;  Dangerous sub...     NaN\n",
       "2     14296    H11689/2007-- S-W920-NRT4-07;  A large subme...     NaN\n",
       "3     14298    H11689/2007-- S-W920-NRT4-07;  A submerged w...     NaN\n",
       "4     14207    CL 1883/1999--  The Canadian Hydrographic Se...     NaN"
      ]
     },
     "execution_count": 19,
     "metadata": {},
     "output_type": "execute_result"
    }
   ],
   "source": [
    "history_df.head()"
   ]
  },
  {
   "cell_type": "code",
   "execution_count": 20,
   "metadata": {},
   "outputs": [],
   "source": [
    "history_df.to_csv('Resources/final_history.csv', index = False)"
   ]
  }
 ],
 "metadata": {
  "kernelspec": {
   "display_name": "Python 3",
   "language": "python",
   "name": "python3"
  },
  "language_info": {
   "codemirror_mode": {
    "name": "ipython",
    "version": 3
   },
   "file_extension": ".py",
   "mimetype": "text/x-python",
   "name": "python",
   "nbconvert_exporter": "python",
   "pygments_lexer": "ipython3",
   "version": "3.6.10"
  }
 },
 "nbformat": 4,
 "nbformat_minor": 4
}
