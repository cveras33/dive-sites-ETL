{
 "cells": [
  {
   "cell_type": "code",
   "execution_count": 1,
   "metadata": {},
   "outputs": [],
   "source": [
    "import pandas as pd"
   ]
  },
  {
   "cell_type": "code",
   "execution_count": 2,
   "metadata": {},
   "outputs": [
    {
     "data": {
      "text/html": [
       "<div>\n",
       "<style scoped>\n",
       "    .dataframe tbody tr th:only-of-type {\n",
       "        vertical-align: middle;\n",
       "    }\n",
       "\n",
       "    .dataframe tbody tr th {\n",
       "        vertical-align: top;\n",
       "    }\n",
       "\n",
       "    .dataframe thead th {\n",
       "        text-align: right;\n",
       "    }\n",
       "</style>\n",
       "<table border=\"1\" class=\"dataframe\">\n",
       "  <thead>\n",
       "    <tr style=\"text-align: right;\">\n",
       "      <th></th>\n",
       "      <th>RECRD</th>\n",
       "      <th>VESSLTERMS</th>\n",
       "      <th>FEATURE_TYPE</th>\n",
       "      <th>LATDEC</th>\n",
       "      <th>LONDEC</th>\n",
       "      <th>GP_QUALITY</th>\n",
       "      <th>DEPTH</th>\n",
       "      <th>SOUNDING_TYPE</th>\n",
       "      <th>YEARSUNK</th>\n",
       "      <th>HISTORY</th>\n",
       "    </tr>\n",
       "  </thead>\n",
       "  <tbody>\n",
       "    <tr>\n",
       "      <th>0</th>\n",
       "      <td>14620</td>\n",
       "      <td>UNKNOWN</td>\n",
       "      <td>Wreck - Submerged, dangerous to surface naviga...</td>\n",
       "      <td>42.143528</td>\n",
       "      <td>-80.114556</td>\n",
       "      <td>High</td>\n",
       "      <td>18.0</td>\n",
       "      <td>Feet and tenths</td>\n",
       "      <td>NaN</td>\n",
       "      <td>F00542: S-W904-NRT4-07; Office review indica...</td>\n",
       "    </tr>\n",
       "    <tr>\n",
       "      <th>1</th>\n",
       "      <td>14292</td>\n",
       "      <td>UNKNOWN</td>\n",
       "      <td>Wreck - Submerged, dangerous to surface naviga...</td>\n",
       "      <td>41.498284</td>\n",
       "      <td>-81.759593</td>\n",
       "      <td>High</td>\n",
       "      <td>26.0</td>\n",
       "      <td>Feet and tenths</td>\n",
       "      <td>NaN</td>\n",
       "      <td>H11689/2007-- S-w920-NRT4-07;  Dangerous sub...</td>\n",
       "    </tr>\n",
       "    <tr>\n",
       "      <th>2</th>\n",
       "      <td>14296</td>\n",
       "      <td>ALGERIA</td>\n",
       "      <td>Wreck - Submerged, dangerous to surface naviga...</td>\n",
       "      <td>41.520448</td>\n",
       "      <td>-81.716076</td>\n",
       "      <td>High</td>\n",
       "      <td>32.0</td>\n",
       "      <td>Feet and tenths</td>\n",
       "      <td>NaN</td>\n",
       "      <td>H11689/2007-- S-W920-NRT4-07;  A large subme...</td>\n",
       "    </tr>\n",
       "    <tr>\n",
       "      <th>3</th>\n",
       "      <td>14298</td>\n",
       "      <td>UNKNOWN</td>\n",
       "      <td>Wreck - Submerged, dangerous to surface naviga...</td>\n",
       "      <td>41.512713</td>\n",
       "      <td>-81.709879</td>\n",
       "      <td>High</td>\n",
       "      <td>22.0</td>\n",
       "      <td>Feet and tenths</td>\n",
       "      <td>NaN</td>\n",
       "      <td>H11689/2007-- S-W920-NRT4-07;  A submerged w...</td>\n",
       "    </tr>\n",
       "    <tr>\n",
       "      <th>4</th>\n",
       "      <td>14207</td>\n",
       "      <td>UNKNOWN</td>\n",
       "      <td>Wreck - Submerged, dangerous to surface naviga...</td>\n",
       "      <td>42.993389</td>\n",
       "      <td>-82.426583</td>\n",
       "      <td>High</td>\n",
       "      <td>34.0</td>\n",
       "      <td>Feet and tenths</td>\n",
       "      <td>NaN</td>\n",
       "      <td>CL 1883/1999--  The Canadian Hydrographic Se...</td>\n",
       "    </tr>\n",
       "  </tbody>\n",
       "</table>\n",
       "</div>"
      ],
      "text/plain": [
       "   RECRD VESSLTERMS                                       FEATURE_TYPE  \\\n",
       "0  14620    UNKNOWN  Wreck - Submerged, dangerous to surface naviga...   \n",
       "1  14292    UNKNOWN  Wreck - Submerged, dangerous to surface naviga...   \n",
       "2  14296    ALGERIA  Wreck - Submerged, dangerous to surface naviga...   \n",
       "3  14298    UNKNOWN  Wreck - Submerged, dangerous to surface naviga...   \n",
       "4  14207    UNKNOWN  Wreck - Submerged, dangerous to surface naviga...   \n",
       "\n",
       "      LATDEC     LONDEC GP_QUALITY  DEPTH    SOUNDING_TYPE  YEARSUNK  \\\n",
       "0  42.143528 -80.114556       High   18.0  Feet and tenths       NaN   \n",
       "1  41.498284 -81.759593       High   26.0  Feet and tenths       NaN   \n",
       "2  41.520448 -81.716076       High   32.0  Feet and tenths       NaN   \n",
       "3  41.512713 -81.709879       High   22.0  Feet and tenths       NaN   \n",
       "4  42.993389 -82.426583       High   34.0  Feet and tenths       NaN   \n",
       "\n",
       "                                             HISTORY  \n",
       "0    F00542: S-W904-NRT4-07; Office review indica...  \n",
       "1    H11689/2007-- S-w920-NRT4-07;  Dangerous sub...  \n",
       "2    H11689/2007-- S-W920-NRT4-07;  A large subme...  \n",
       "3    H11689/2007-- S-W920-NRT4-07;  A submerged w...  \n",
       "4    CL 1883/1999--  The Canadian Hydrographic Se...  "
      ]
     },
     "execution_count": 2,
     "metadata": {},
     "output_type": "execute_result"
    }
   ],
   "source": [
    "# The path to our CSV file\n",
    "file = \"Resources/AWOIS_Wrecks.csv\"\n",
    "\n",
    "# Read our Wrecks data into pandas\n",
    "all_df = pd.read_csv(file, encoding='latin1')\n",
    "all_df.head()"
   ]
  },
  {
   "cell_type": "code",
   "execution_count": 22,
   "metadata": {},
   "outputs": [
    {
     "data": {
      "text/plain": [
       "Index(['RECRD', 'VESSLTERMS', 'FEATURE_TYPE', 'LATDEC', 'LONDEC', 'GP_QUALITY',\n",
       "       'DEPTH', 'SOUNDING_TYPE', 'YEARSUNK', 'HISTORY'],\n",
       "      dtype='object')"
      ]
     },
     "execution_count": 22,
     "metadata": {},
     "output_type": "execute_result"
    }
   ],
   "source": [
    "# Get a list of all of our columns for easy reference\n",
    "all_df.columns"
   ]
  },
  {
   "cell_type": "code",
   "execution_count": 3,
   "metadata": {
    "scrolled": true
   },
   "outputs": [
    {
     "data": {
      "text/html": [
       "<div>\n",
       "<style scoped>\n",
       "    .dataframe tbody tr th:only-of-type {\n",
       "        vertical-align: middle;\n",
       "    }\n",
       "\n",
       "    .dataframe tbody tr th {\n",
       "        vertical-align: top;\n",
       "    }\n",
       "\n",
       "    .dataframe thead th {\n",
       "        text-align: right;\n",
       "    }\n",
       "</style>\n",
       "<table border=\"1\" class=\"dataframe\">\n",
       "  <thead>\n",
       "    <tr style=\"text-align: right;\">\n",
       "      <th></th>\n",
       "      <th>RECRD</th>\n",
       "      <th>VESSLTERMS</th>\n",
       "      <th>FEATURE_TYPE</th>\n",
       "      <th>LATDEC</th>\n",
       "      <th>LONDEC</th>\n",
       "      <th>GP_QUALITY</th>\n",
       "      <th>HISTORY</th>\n",
       "    </tr>\n",
       "  </thead>\n",
       "  <tbody>\n",
       "    <tr>\n",
       "      <th>0</th>\n",
       "      <td>14620</td>\n",
       "      <td>UNKNOWN</td>\n",
       "      <td>Wreck - Submerged, dangerous to surface naviga...</td>\n",
       "      <td>42.143528</td>\n",
       "      <td>-80.114556</td>\n",
       "      <td>High</td>\n",
       "      <td>F00542: S-W904-NRT4-07; Office review indica...</td>\n",
       "    </tr>\n",
       "    <tr>\n",
       "      <th>1</th>\n",
       "      <td>14292</td>\n",
       "      <td>UNKNOWN</td>\n",
       "      <td>Wreck - Submerged, dangerous to surface naviga...</td>\n",
       "      <td>41.498284</td>\n",
       "      <td>-81.759593</td>\n",
       "      <td>High</td>\n",
       "      <td>H11689/2007-- S-w920-NRT4-07;  Dangerous sub...</td>\n",
       "    </tr>\n",
       "    <tr>\n",
       "      <th>2</th>\n",
       "      <td>14296</td>\n",
       "      <td>ALGERIA</td>\n",
       "      <td>Wreck - Submerged, dangerous to surface naviga...</td>\n",
       "      <td>41.520448</td>\n",
       "      <td>-81.716076</td>\n",
       "      <td>High</td>\n",
       "      <td>H11689/2007-- S-W920-NRT4-07;  A large subme...</td>\n",
       "    </tr>\n",
       "    <tr>\n",
       "      <th>3</th>\n",
       "      <td>14298</td>\n",
       "      <td>UNKNOWN</td>\n",
       "      <td>Wreck - Submerged, dangerous to surface naviga...</td>\n",
       "      <td>41.512713</td>\n",
       "      <td>-81.709879</td>\n",
       "      <td>High</td>\n",
       "      <td>H11689/2007-- S-W920-NRT4-07;  A submerged w...</td>\n",
       "    </tr>\n",
       "    <tr>\n",
       "      <th>4</th>\n",
       "      <td>14207</td>\n",
       "      <td>UNKNOWN</td>\n",
       "      <td>Wreck - Submerged, dangerous to surface naviga...</td>\n",
       "      <td>42.993389</td>\n",
       "      <td>-82.426583</td>\n",
       "      <td>High</td>\n",
       "      <td>CL 1883/1999--  The Canadian Hydrographic Se...</td>\n",
       "    </tr>\n",
       "  </tbody>\n",
       "</table>\n",
       "</div>"
      ],
      "text/plain": [
       "   RECRD VESSLTERMS                                       FEATURE_TYPE  \\\n",
       "0  14620    UNKNOWN  Wreck - Submerged, dangerous to surface naviga...   \n",
       "1  14292    UNKNOWN  Wreck - Submerged, dangerous to surface naviga...   \n",
       "2  14296    ALGERIA  Wreck - Submerged, dangerous to surface naviga...   \n",
       "3  14298    UNKNOWN  Wreck - Submerged, dangerous to surface naviga...   \n",
       "4  14207    UNKNOWN  Wreck - Submerged, dangerous to surface naviga...   \n",
       "\n",
       "      LATDEC     LONDEC GP_QUALITY  \\\n",
       "0  42.143528 -80.114556       High   \n",
       "1  41.498284 -81.759593       High   \n",
       "2  41.520448 -81.716076       High   \n",
       "3  41.512713 -81.709879       High   \n",
       "4  42.993389 -82.426583       High   \n",
       "\n",
       "                                             HISTORY  \n",
       "0    F00542: S-W904-NRT4-07; Office review indica...  \n",
       "1    H11689/2007-- S-w920-NRT4-07;  Dangerous sub...  \n",
       "2    H11689/2007-- S-W920-NRT4-07;  A large subme...  \n",
       "3    H11689/2007-- S-W920-NRT4-07;  A submerged w...  \n",
       "4    CL 1883/1999--  The Canadian Hydrographic Se...  "
      ]
     },
     "execution_count": 3,
     "metadata": {},
     "output_type": "execute_result"
    }
   ],
   "source": [
    "# Drop columns \"depth\" \"sounding_type\" \"yearsunk\" \n",
    "clean_df = all_df.drop([\"DEPTH\",\"SOUNDING_TYPE\",\"YEARSUNK\"], axis = 1, inplace=False)\n",
    "\n",
    "clean_df.head()"
   ]
  },
  {
   "cell_type": "code",
   "execution_count": null,
   "metadata": {},
   "outputs": [],
   "source": []
  }
 ],
 "metadata": {
  "kernelspec": {
   "display_name": "Python 3",
   "language": "python",
   "name": "python3"
  },
  "language_info": {
   "codemirror_mode": {
    "name": "ipython",
    "version": 3
   },
   "file_extension": ".py",
   "mimetype": "text/x-python",
   "name": "python",
   "nbconvert_exporter": "python",
   "pygments_lexer": "ipython3",
   "version": "3.7.6"
  },
  "varInspector": {
   "cols": {
    "lenName": 16,
    "lenType": 16,
    "lenVar": 40
   },
   "kernels_config": {
    "python": {
     "delete_cmd_postfix": "",
     "delete_cmd_prefix": "del ",
     "library": "var_list.py",
     "varRefreshCmd": "print(var_dic_list())"
    },
    "r": {
     "delete_cmd_postfix": ") ",
     "delete_cmd_prefix": "rm(",
     "library": "var_list.r",
     "varRefreshCmd": "cat(var_dic_list()) "
    }
   },
   "types_to_exclude": [
    "module",
    "function",
    "builtin_function_or_method",
    "instance",
    "_Feature"
   ],
   "window_display": false
  }
 },
 "nbformat": 4,
 "nbformat_minor": 2
}
