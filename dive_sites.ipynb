{
 "cells": [
  {
   "cell_type": "code",
   "execution_count": 1,
   "metadata": {},
   "outputs": [],
   "source": [
    "import requests\n",
    "from pprint import pprint"
   ]
  },
  {
   "cell_type": "code",
   "execution_count": 9,
   "metadata": {},
   "outputs": [],
   "source": [
    "url = 'http://api.divesites.com/?mode=sites'"
   ]
  },
  {
   "cell_type": "code",
   "execution_count": 14,
   "metadata": {},
   "outputs": [],
   "source": [
    "lat = '47.6031537682643'\n",
    "lng = '-122.336164712906'\n",
    "dist = '2'"
   ]
  },
  {
   "cell_type": "code",
   "execution_count": 15,
   "metadata": {},
   "outputs": [],
   "source": [
    "query_url = url + '&lat=' + lat + '&lng=' + lng + '&dist=' + dist"
   ]
  },
  {
   "cell_type": "code",
   "execution_count": 17,
   "metadata": {},
   "outputs": [
    {
     "data": {
      "text/plain": [
       "{'request': {'str': None,\n",
       "  'timestamp': 1606872183,\n",
       "  'loc': {'lat': '47.6031537682643', 'lng': '-122.336164712906'},\n",
       "  'mode': 'sites',\n",
       "  'dist': '2',\n",
       "  'api': 1},\n",
       " 'sites': [{'currents': None,\n",
       "   'distance': '0.41',\n",
       "   'hazards': None,\n",
       "   'lat': '47.6075',\n",
       "   'name': 'Seattle Aquarium',\n",
       "   'water': None,\n",
       "   'marinelife': None,\n",
       "   'description': None,\n",
       "   'maxdepth': None,\n",
       "   'mindepth': None,\n",
       "   'predive': None,\n",
       "   'id': '17631',\n",
       "   'equipment': None,\n",
       "   'lng': '-122.3421'}],\n",
       " 'version': 1,\n",
       " 'loc': {'lat': '47.6031537682643', 'lng': '-122.336164712906'},\n",
       " 'result': True}"
      ]
     },
     "execution_count": 17,
     "metadata": {},
     "output_type": "execute_result"
    }
   ],
   "source": [
    "sites = requests.get(query_url).json()\n",
    "sites\n",
    "#print(query_url)"
   ]
  },
  {
   "cell_type": "code",
   "execution_count": null,
   "metadata": {},
   "outputs": [],
   "source": []
  }
 ],
 "metadata": {
  "kernelspec": {
   "display_name": "Python 3",
   "language": "python",
   "name": "python3"
  },
  "language_info": {
   "codemirror_mode": {
    "name": "ipython",
    "version": 3
   },
   "file_extension": ".py",
   "mimetype": "text/x-python",
   "name": "python",
   "nbconvert_exporter": "python",
   "pygments_lexer": "ipython3",
   "version": "3.6.10"
  }
 },
 "nbformat": 4,
 "nbformat_minor": 4
}
