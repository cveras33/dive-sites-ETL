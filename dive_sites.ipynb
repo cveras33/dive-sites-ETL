{
 "cells": [
  {
   "cell_type": "code",
   "execution_count": 20,
   "metadata": {},
   "outputs": [],
   "source": [
    "import requests\n",
    "import pprint\n",
    "import json"
   ]
  },
  {
   "cell_type": "code",
   "execution_count": 21,
   "metadata": {},
   "outputs": [],
   "source": [
    "import pandas as pd\n",
    "import numpy as np"
   ]
  },
  {
   "cell_type": "code",
   "execution_count": 2,
   "metadata": {},
   "outputs": [],
   "source": [
    "url = 'http://api.divesites.com/?mode=sites'"
   ]
  },
  {
   "cell_type": "code",
   "execution_count": 3,
   "metadata": {},
   "outputs": [],
   "source": [
    "# Testing API \n",
    "lat = '47.6031537682643'\n",
    "lng = '-122.336164712906'\n",
    "dist = '2'"
   ]
  },
  {
   "cell_type": "code",
   "execution_count": 4,
   "metadata": {},
   "outputs": [],
   "source": [
    "query_url = url + '&lat=' + lat + '&lng=' + lng + '&dist=' + dist"
   ]
  },
  {
   "cell_type": "code",
   "execution_count": 5,
   "metadata": {},
   "outputs": [],
   "source": [
    "pp = pprint.PrettyPrinter(indent = 4)"
   ]
  },
  {
   "cell_type": "code",
   "execution_count": 10,
   "metadata": {},
   "outputs": [
    {
     "name": "stdout",
     "output_type": "stream",
     "text": [
      "{\n",
      "    \"loc\": {\n",
      "        \"lat\": \"47.6031537682643\",\n",
      "        \"lng\": \"-122.336164712906\"\n",
      "    },\n",
      "    \"request\": {\n",
      "        \"api\": 1,\n",
      "        \"dist\": \"2\",\n",
      "        \"loc\": {\n",
      "            \"lat\": \"47.6031537682643\",\n",
      "            \"lng\": \"-122.336164712906\"\n",
      "        },\n",
      "        \"mode\": \"sites\",\n",
      "        \"str\": null,\n",
      "        \"timestamp\": 1606916406\n",
      "    },\n",
      "    \"result\": true,\n",
      "    \"sites\": [\n",
      "        {\n",
      "            \"currents\": null,\n",
      "            \"description\": null,\n",
      "            \"distance\": \"0.41\",\n",
      "            \"equipment\": null,\n",
      "            \"hazards\": null,\n",
      "            \"id\": \"17631\",\n",
      "            \"lat\": \"47.6075\",\n",
      "            \"lng\": \"-122.3421\",\n",
      "            \"marinelife\": null,\n",
      "            \"maxdepth\": null,\n",
      "            \"mindepth\": null,\n",
      "            \"name\": \"Seattle Aquarium\",\n",
      "            \"predive\": null,\n",
      "            \"water\": null\n",
      "        }\n",
      "    ],\n",
      "    \"version\": 1\n",
      "}\n"
     ]
    }
   ],
   "source": [
    "sites = requests.get(query_url).json()\n",
    "print(json.dumps(sites, indent = 4, sort_keys = True))"
   ]
  },
  {
   "cell_type": "code",
   "execution_count": 17,
   "metadata": {},
   "outputs": [
    {
     "data": {
      "text/plain": [
       "'Seattle Aquarium'"
      ]
     },
     "execution_count": 17,
     "metadata": {},
     "output_type": "execute_result"
    }
   ],
   "source": [
    "site_name = sites[\"sites\"][0][\"name\"]\n",
    "site_name"
   ]
  },
  {
   "cell_type": "code",
   "execution_count": 18,
   "metadata": {},
   "outputs": [
    {
     "data": {
      "text/plain": [
       "'17631'"
      ]
     },
     "execution_count": 18,
     "metadata": {},
     "output_type": "execute_result"
    }
   ],
   "source": [
    "site_id = sites[\"sites\"][0][\"id\"]\n",
    "site_id"
   ]
  },
  {
   "cell_type": "code",
   "execution_count": 22,
   "metadata": {},
   "outputs": [
    {
     "data": {
      "text/plain": [
       "'0.41'"
      ]
     },
     "execution_count": 22,
     "metadata": {},
     "output_type": "execute_result"
    }
   ],
   "source": [
    "#Distance from the original coordinates in miles\n",
    "distance = sites[\"sites\"][0][\"distance\"]\n",
    "distance"
   ]
  },
  {
   "cell_type": "code",
   "execution_count": 23,
   "metadata": {},
   "outputs": [
    {
     "data": {
      "text/html": [
       "<div>\n",
       "<style scoped>\n",
       "    .dataframe tbody tr th:only-of-type {\n",
       "        vertical-align: middle;\n",
       "    }\n",
       "\n",
       "    .dataframe tbody tr th {\n",
       "        vertical-align: top;\n",
       "    }\n",
       "\n",
       "    .dataframe thead th {\n",
       "        text-align: right;\n",
       "    }\n",
       "</style>\n",
       "<table border=\"1\" class=\"dataframe\">\n",
       "  <thead>\n",
       "    <tr style=\"text-align: right;\">\n",
       "      <th></th>\n",
       "      <th>RECRD</th>\n",
       "      <th>VESSLTERMS</th>\n",
       "      <th>FEATURE_TYPE</th>\n",
       "      <th>LATDEC</th>\n",
       "      <th>LONDEC</th>\n",
       "    </tr>\n",
       "  </thead>\n",
       "  <tbody>\n",
       "    <tr>\n",
       "      <th>0</th>\n",
       "      <td>15083</td>\n",
       "      <td>WRECK</td>\n",
       "      <td>Wreck - Submerged, nondangerous</td>\n",
       "      <td>18.448611</td>\n",
       "      <td>-65.599444</td>\n",
       "    </tr>\n",
       "    <tr>\n",
       "      <th>1</th>\n",
       "      <td>10864</td>\n",
       "      <td>HMS LOWESTOFFE</td>\n",
       "      <td>Wreck - Submerged, nondangerous</td>\n",
       "      <td>21.515556</td>\n",
       "      <td>-72.884444</td>\n",
       "    </tr>\n",
       "    <tr>\n",
       "      <th>2</th>\n",
       "      <td>3</td>\n",
       "      <td>FERNGARTH</td>\n",
       "      <td>Wreck - Submerged, nondangerous</td>\n",
       "      <td>18.386675</td>\n",
       "      <td>-75.003183</td>\n",
       "    </tr>\n",
       "    <tr>\n",
       "      <th>3</th>\n",
       "      <td>13785</td>\n",
       "      <td>UNKNOWN</td>\n",
       "      <td>Wreck - Submerged, nondangerous</td>\n",
       "      <td>18.481217</td>\n",
       "      <td>-66.132017</td>\n",
       "    </tr>\n",
       "    <tr>\n",
       "      <th>4</th>\n",
       "      <td>13786</td>\n",
       "      <td>UNKNOWN</td>\n",
       "      <td>Wreck - Submerged, nondangerous</td>\n",
       "      <td>18.484647</td>\n",
       "      <td>-66.125219</td>\n",
       "    </tr>\n",
       "    <tr>\n",
       "      <th>5</th>\n",
       "      <td>2751</td>\n",
       "      <td>ANTONIO LOPEZ</td>\n",
       "      <td>Wreck - Submerged, nondangerous</td>\n",
       "      <td>18.478583</td>\n",
       "      <td>-66.231083</td>\n",
       "    </tr>\n",
       "    <tr>\n",
       "      <th>6</th>\n",
       "      <td>3160</td>\n",
       "      <td>JE CROIS EN DIUE</td>\n",
       "      <td>Wreck - Submerged, nondangerous</td>\n",
       "      <td>18.666667</td>\n",
       "      <td>-73.100000</td>\n",
       "    </tr>\n",
       "    <tr>\n",
       "      <th>7</th>\n",
       "      <td>3162</td>\n",
       "      <td>JOHANNE</td>\n",
       "      <td>Wreck - Submerged, nondangerous</td>\n",
       "      <td>19.000000</td>\n",
       "      <td>-73.000000</td>\n",
       "    </tr>\n",
       "    <tr>\n",
       "      <th>8</th>\n",
       "      <td>2942</td>\n",
       "      <td>EASTERN CLOUD</td>\n",
       "      <td>Wreck - Submerged, nondangerous</td>\n",
       "      <td>22.417111</td>\n",
       "      <td>-74.499283</td>\n",
       "    </tr>\n",
       "    <tr>\n",
       "      <th>9</th>\n",
       "      <td>7783</td>\n",
       "      <td>CARIBE</td>\n",
       "      <td>Wreck - Submerged, nondangerous</td>\n",
       "      <td>18.681325</td>\n",
       "      <td>-66.166278</td>\n",
       "    </tr>\n",
       "    <tr>\n",
       "      <th>10</th>\n",
       "      <td>15081</td>\n",
       "      <td>WRECK</td>\n",
       "      <td>Wreck - Submerged, nondangerous</td>\n",
       "      <td>18.500000</td>\n",
       "      <td>-65.800000</td>\n",
       "    </tr>\n",
       "    <tr>\n",
       "      <th>11</th>\n",
       "      <td>15190</td>\n",
       "      <td>OBSTRUCTION</td>\n",
       "      <td>Wreck - Submerged, nondangerous</td>\n",
       "      <td>18.270100</td>\n",
       "      <td>-65.017800</td>\n",
       "    </tr>\n",
       "    <tr>\n",
       "      <th>12</th>\n",
       "      <td>15191</td>\n",
       "      <td>OBSTRUCTION</td>\n",
       "      <td>Wreck - Submerged, nondangerous</td>\n",
       "      <td>18.255300</td>\n",
       "      <td>-65.012600</td>\n",
       "    </tr>\n",
       "    <tr>\n",
       "      <th>13</th>\n",
       "      <td>15192</td>\n",
       "      <td>OBSTRUCTION</td>\n",
       "      <td>Wreck - Submerged, nondangerous</td>\n",
       "      <td>18.253222</td>\n",
       "      <td>-64.977833</td>\n",
       "    </tr>\n",
       "    <tr>\n",
       "      <th>14</th>\n",
       "      <td>15193</td>\n",
       "      <td>OBSTRUCTION</td>\n",
       "      <td>Wreck - Submerged, nondangerous</td>\n",
       "      <td>18.261361</td>\n",
       "      <td>-64.941250</td>\n",
       "    </tr>\n",
       "  </tbody>\n",
       "</table>\n",
       "</div>"
      ],
      "text/plain": [
       "    RECRD        VESSLTERMS                     FEATURE_TYPE     LATDEC  \\\n",
       "0   15083             WRECK  Wreck - Submerged, nondangerous  18.448611   \n",
       "1   10864    HMS LOWESTOFFE  Wreck - Submerged, nondangerous  21.515556   \n",
       "2       3         FERNGARTH  Wreck - Submerged, nondangerous  18.386675   \n",
       "3   13785           UNKNOWN  Wreck - Submerged, nondangerous  18.481217   \n",
       "4   13786           UNKNOWN  Wreck - Submerged, nondangerous  18.484647   \n",
       "5    2751     ANTONIO LOPEZ  Wreck - Submerged, nondangerous  18.478583   \n",
       "6    3160  JE CROIS EN DIUE  Wreck - Submerged, nondangerous  18.666667   \n",
       "7    3162           JOHANNE  Wreck - Submerged, nondangerous  19.000000   \n",
       "8    2942     EASTERN CLOUD  Wreck - Submerged, nondangerous  22.417111   \n",
       "9    7783            CARIBE  Wreck - Submerged, nondangerous  18.681325   \n",
       "10  15081             WRECK  Wreck - Submerged, nondangerous  18.500000   \n",
       "11  15190       OBSTRUCTION  Wreck - Submerged, nondangerous  18.270100   \n",
       "12  15191       OBSTRUCTION  Wreck - Submerged, nondangerous  18.255300   \n",
       "13  15192       OBSTRUCTION  Wreck - Submerged, nondangerous  18.253222   \n",
       "14  15193       OBSTRUCTION  Wreck - Submerged, nondangerous  18.261361   \n",
       "\n",
       "       LONDEC  \n",
       "0  -65.599444  \n",
       "1  -72.884444  \n",
       "2  -75.003183  \n",
       "3  -66.132017  \n",
       "4  -66.125219  \n",
       "5  -66.231083  \n",
       "6  -73.100000  \n",
       "7  -73.000000  \n",
       "8  -74.499283  \n",
       "9  -66.166278  \n",
       "10 -65.800000  \n",
       "11 -65.017800  \n",
       "12 -65.012600  \n",
       "13 -64.977833  \n",
       "14 -64.941250  "
      ]
     },
     "execution_count": 23,
     "metadata": {},
     "output_type": "execute_result"
    }
   ],
   "source": [
    "# Importing test csv to run through api \n",
    "test_df = pd.read_csv('Resources/testing.csv')\n",
    "test_df"
   ]
  },
  {
   "cell_type": "code",
   "execution_count": 24,
   "metadata": {},
   "outputs": [],
   "source": [
    "site_name = []\n",
    "site_id = []\n",
    "distance = []"
   ]
  },
  {
   "cell_type": "code",
   "execution_count": 28,
   "metadata": {},
   "outputs": [],
   "source": [
    "for index, row in test_df.iterrows():\n",
    "    latitude = str(row[\"LATDEC\"])\n",
    "    longitude = str(row[\"LONDEC\"])\n",
    "    \n",
    "    url = 'http://api.divesites.com/?mode=sites'\n",
    "    query_url = url + '&lat=' + latitude + '&lng=' + longitude + '&dist=25'\n",
    "    \n",
    "    response =  requests.get(query_url)\n",
    "    response_json = response.json()\n",
    "    \n",
    "    try:\n",
    "        site_name.append(response_json[\"sites\"][0][\"name\"])\n",
    "        site_id.append(response_json[\"sites\"][0][\"id\"])\n",
    "        distance.append(response_json[\"sites\"][0][\"distance\"])\n",
    "    except IndexError:\n",
    "        site_name.append(np.nan)\n",
    "        site_id.append(np.nan)\n",
    "        distance.append(np.nan)"
   ]
  },
  {
   "cell_type": "code",
   "execution_count": 29,
   "metadata": {},
   "outputs": [
    {
     "data": {
      "text/plain": [
       "[nan,\n",
       " nan,\n",
       " nan,\n",
       " 'Escambro',\n",
       " 'Escambro',\n",
       " nan,\n",
       " nan,\n",
       " nan,\n",
       " nan,\n",
       " nan,\n",
       " nan,\n",
       " nan,\n",
       " nan,\n",
       " nan,\n",
       " nan,\n",
       " 'Rat Island',\n",
       " nan,\n",
       " nan,\n",
       " 'Escambro',\n",
       " 'Escambro',\n",
       " 'Escambro',\n",
       " nan,\n",
       " nan,\n",
       " nan,\n",
       " 'Escambro',\n",
       " 'Seven Seas',\n",
       " 'Charlotte Amalie',\n",
       " 'Charlotte Amalie',\n",
       " 'Charlotte Amalie',\n",
       " 'Wye Reef']"
      ]
     },
     "execution_count": 29,
     "metadata": {},
     "output_type": "execute_result"
    }
   ],
   "source": [
    "site_name"
   ]
  },
  {
   "cell_type": "code",
   "execution_count": 30,
   "metadata": {},
   "outputs": [
    {
     "data": {
      "text/plain": [
       "[nan,\n",
       " nan,\n",
       " nan,\n",
       " '23774',\n",
       " '23774',\n",
       " nan,\n",
       " nan,\n",
       " nan,\n",
       " nan,\n",
       " nan,\n",
       " nan,\n",
       " nan,\n",
       " nan,\n",
       " nan,\n",
       " nan,\n",
       " '22187',\n",
       " nan,\n",
       " nan,\n",
       " '23774',\n",
       " '23774',\n",
       " '23774',\n",
       " nan,\n",
       " nan,\n",
       " nan,\n",
       " '23774',\n",
       " '18851',\n",
       " '24080',\n",
       " '24080',\n",
       " '24080',\n",
       " '23635']"
      ]
     },
     "execution_count": 30,
     "metadata": {},
     "output_type": "execute_result"
    }
   ],
   "source": [
    "site_id"
   ]
  },
  {
   "cell_type": "code",
   "execution_count": 31,
   "metadata": {},
   "outputs": [
    {
     "data": {
      "text/plain": [
       "[nan,\n",
       " nan,\n",
       " nan,\n",
       " '1.55',\n",
       " '1.05',\n",
       " nan,\n",
       " nan,\n",
       " nan,\n",
       " nan,\n",
       " nan,\n",
       " nan,\n",
       " nan,\n",
       " nan,\n",
       " nan,\n",
       " nan,\n",
       " '4.75',\n",
       " nan,\n",
       " nan,\n",
       " '1.55',\n",
       " '1.05',\n",
       " '7.96',\n",
       " nan,\n",
       " nan,\n",
       " nan,\n",
       " '13.72',\n",
       " '13.93',\n",
       " '4.07',\n",
       " '4.90',\n",
       " '4.91',\n",
       " '3.24']"
      ]
     },
     "execution_count": 31,
     "metadata": {},
     "output_type": "execute_result"
    }
   ],
   "source": [
    "distance"
   ]
  },
  {
   "cell_type": "code",
   "execution_count": null,
   "metadata": {},
   "outputs": [],
   "source": []
  }
 ],
 "metadata": {
  "kernelspec": {
   "display_name": "Python 3",
   "language": "python",
   "name": "python3"
  },
  "language_info": {
   "codemirror_mode": {
    "name": "ipython",
    "version": 3
   },
   "file_extension": ".py",
   "mimetype": "text/x-python",
   "name": "python",
   "nbconvert_exporter": "python",
   "pygments_lexer": "ipython3",
   "version": "3.7.6"
  }
 },
 "nbformat": 4,
 "nbformat_minor": 4
}
