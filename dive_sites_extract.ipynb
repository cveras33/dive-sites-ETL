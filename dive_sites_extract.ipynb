{
 "cells": [
  {
   "cell_type": "code",
   "execution_count": 1,
   "metadata": {},
   "outputs": [],
   "source": [
    "import requests\n",
    "import pprint\n",
    "import json"
   ]
  },
  {
   "cell_type": "code",
   "execution_count": 2,
   "metadata": {},
   "outputs": [],
   "source": [
    "import pandas as pd\n",
    "import numpy as np"
   ]
  },
  {
   "cell_type": "markdown",
   "metadata": {},
   "source": [
    "<h3> TESTING "
   ]
  },
  {
   "cell_type": "code",
   "execution_count": 4,
   "metadata": {},
   "outputs": [],
   "source": [
    "url = 'http://api.divesites.com/?mode=sites'"
   ]
  },
  {
   "cell_type": "code",
   "execution_count": 5,
   "metadata": {},
   "outputs": [],
   "source": [
    "# Testing API \n",
    "lat = '47.6031537682643'\n",
    "lng = '-122.336164712906'\n",
    "dist = '2'"
   ]
  },
  {
   "cell_type": "code",
   "execution_count": 6,
   "metadata": {},
   "outputs": [],
   "source": [
    "query_url = url + '&lat=' + lat + '&lng=' + lng + '&dist=' + dist"
   ]
  },
  {
   "cell_type": "code",
   "execution_count": 7,
   "metadata": {},
   "outputs": [],
   "source": [
    "pp = pprint.PrettyPrinter(indent = 4)"
   ]
  },
  {
   "cell_type": "code",
   "execution_count": 8,
   "metadata": {},
   "outputs": [
    {
     "name": "stdout",
     "output_type": "stream",
     "text": [
      "{\n",
      "    \"loc\": {\n",
      "        \"lat\": \"47.6031537682643\",\n",
      "        \"lng\": \"-122.336164712906\"\n",
      "    },\n",
      "    \"request\": {\n",
      "        \"api\": 1,\n",
      "        \"dist\": \"2\",\n",
      "        \"loc\": {\n",
      "            \"lat\": \"47.6031537682643\",\n",
      "            \"lng\": \"-122.336164712906\"\n",
      "        },\n",
      "        \"mode\": \"sites\",\n",
      "        \"str\": null,\n",
      "        \"timestamp\": 1607043518\n",
      "    },\n",
      "    \"result\": true,\n",
      "    \"sites\": [\n",
      "        {\n",
      "            \"currents\": null,\n",
      "            \"description\": null,\n",
      "            \"distance\": \"0.41\",\n",
      "            \"equipment\": null,\n",
      "            \"hazards\": null,\n",
      "            \"id\": \"17631\",\n",
      "            \"lat\": \"47.6075\",\n",
      "            \"lng\": \"-122.3421\",\n",
      "            \"marinelife\": null,\n",
      "            \"maxdepth\": null,\n",
      "            \"mindepth\": null,\n",
      "            \"name\": \"Seattle Aquarium\",\n",
      "            \"predive\": null,\n",
      "            \"water\": null\n",
      "        }\n",
      "    ],\n",
      "    \"version\": 1\n",
      "}\n"
     ]
    }
   ],
   "source": [
    "sites = requests.get(query_url).json()\n",
    "print(json.dumps(sites, indent = 4, sort_keys = True))"
   ]
  },
  {
   "cell_type": "code",
   "execution_count": 9,
   "metadata": {},
   "outputs": [
    {
     "data": {
      "text/plain": [
       "'Seattle Aquarium'"
      ]
     },
     "execution_count": 9,
     "metadata": {},
     "output_type": "execute_result"
    }
   ],
   "source": [
    "site_name = sites[\"sites\"][0][\"name\"]\n",
    "site_name"
   ]
  },
  {
   "cell_type": "code",
   "execution_count": 10,
   "metadata": {},
   "outputs": [
    {
     "data": {
      "text/plain": [
       "'17631'"
      ]
     },
     "execution_count": 10,
     "metadata": {},
     "output_type": "execute_result"
    }
   ],
   "source": [
    "site_id = sites[\"sites\"][0][\"id\"]\n",
    "site_id"
   ]
  },
  {
   "cell_type": "code",
   "execution_count": 11,
   "metadata": {},
   "outputs": [
    {
     "data": {
      "text/plain": [
       "'0.41'"
      ]
     },
     "execution_count": 11,
     "metadata": {},
     "output_type": "execute_result"
    }
   ],
   "source": [
    "#Distance from the original coordinates in miles\n",
    "distance = sites[\"sites\"][0][\"distance\"]\n",
    "distance"
   ]
  },
  {
   "cell_type": "code",
   "execution_count": 12,
   "metadata": {},
   "outputs": [
    {
     "data": {
      "text/html": [
       "<div>\n",
       "<style scoped>\n",
       "    .dataframe tbody tr th:only-of-type {\n",
       "        vertical-align: middle;\n",
       "    }\n",
       "\n",
       "    .dataframe tbody tr th {\n",
       "        vertical-align: top;\n",
       "    }\n",
       "\n",
       "    .dataframe thead th {\n",
       "        text-align: right;\n",
       "    }\n",
       "</style>\n",
       "<table border=\"1\" class=\"dataframe\">\n",
       "  <thead>\n",
       "    <tr style=\"text-align: right;\">\n",
       "      <th></th>\n",
       "      <th>RECRD</th>\n",
       "      <th>VESSLTERMS</th>\n",
       "      <th>FEATURE_TYPE</th>\n",
       "      <th>LATDEC</th>\n",
       "      <th>LONDEC</th>\n",
       "    </tr>\n",
       "  </thead>\n",
       "  <tbody>\n",
       "    <tr>\n",
       "      <th>0</th>\n",
       "      <td>15083</td>\n",
       "      <td>WRECK</td>\n",
       "      <td>Wreck - Submerged, nondangerous</td>\n",
       "      <td>18.448611</td>\n",
       "      <td>-65.599444</td>\n",
       "    </tr>\n",
       "    <tr>\n",
       "      <th>1</th>\n",
       "      <td>10864</td>\n",
       "      <td>HMS LOWESTOFFE</td>\n",
       "      <td>Wreck - Submerged, nondangerous</td>\n",
       "      <td>21.515556</td>\n",
       "      <td>-72.884444</td>\n",
       "    </tr>\n",
       "    <tr>\n",
       "      <th>2</th>\n",
       "      <td>3</td>\n",
       "      <td>FERNGARTH</td>\n",
       "      <td>Wreck - Submerged, nondangerous</td>\n",
       "      <td>18.386675</td>\n",
       "      <td>-75.003183</td>\n",
       "    </tr>\n",
       "    <tr>\n",
       "      <th>3</th>\n",
       "      <td>13785</td>\n",
       "      <td>UNKNOWN</td>\n",
       "      <td>Wreck - Submerged, nondangerous</td>\n",
       "      <td>18.481217</td>\n",
       "      <td>-66.132017</td>\n",
       "    </tr>\n",
       "    <tr>\n",
       "      <th>4</th>\n",
       "      <td>13786</td>\n",
       "      <td>UNKNOWN</td>\n",
       "      <td>Wreck - Submerged, nondangerous</td>\n",
       "      <td>18.484647</td>\n",
       "      <td>-66.125219</td>\n",
       "    </tr>\n",
       "    <tr>\n",
       "      <th>5</th>\n",
       "      <td>2751</td>\n",
       "      <td>ANTONIO LOPEZ</td>\n",
       "      <td>Wreck - Submerged, nondangerous</td>\n",
       "      <td>18.478583</td>\n",
       "      <td>-66.231083</td>\n",
       "    </tr>\n",
       "    <tr>\n",
       "      <th>6</th>\n",
       "      <td>3160</td>\n",
       "      <td>JE CROIS EN DIUE</td>\n",
       "      <td>Wreck - Submerged, nondangerous</td>\n",
       "      <td>18.666667</td>\n",
       "      <td>-73.100000</td>\n",
       "    </tr>\n",
       "    <tr>\n",
       "      <th>7</th>\n",
       "      <td>3162</td>\n",
       "      <td>JOHANNE</td>\n",
       "      <td>Wreck - Submerged, nondangerous</td>\n",
       "      <td>19.000000</td>\n",
       "      <td>-73.000000</td>\n",
       "    </tr>\n",
       "    <tr>\n",
       "      <th>8</th>\n",
       "      <td>2942</td>\n",
       "      <td>EASTERN CLOUD</td>\n",
       "      <td>Wreck - Submerged, nondangerous</td>\n",
       "      <td>22.417111</td>\n",
       "      <td>-74.499283</td>\n",
       "    </tr>\n",
       "    <tr>\n",
       "      <th>9</th>\n",
       "      <td>7783</td>\n",
       "      <td>CARIBE</td>\n",
       "      <td>Wreck - Submerged, nondangerous</td>\n",
       "      <td>18.681325</td>\n",
       "      <td>-66.166278</td>\n",
       "    </tr>\n",
       "    <tr>\n",
       "      <th>10</th>\n",
       "      <td>15081</td>\n",
       "      <td>WRECK</td>\n",
       "      <td>Wreck - Submerged, nondangerous</td>\n",
       "      <td>18.500000</td>\n",
       "      <td>-65.800000</td>\n",
       "    </tr>\n",
       "    <tr>\n",
       "      <th>11</th>\n",
       "      <td>15190</td>\n",
       "      <td>OBSTRUCTION</td>\n",
       "      <td>Wreck - Submerged, nondangerous</td>\n",
       "      <td>18.270100</td>\n",
       "      <td>-65.017800</td>\n",
       "    </tr>\n",
       "    <tr>\n",
       "      <th>12</th>\n",
       "      <td>15191</td>\n",
       "      <td>OBSTRUCTION</td>\n",
       "      <td>Wreck - Submerged, nondangerous</td>\n",
       "      <td>18.255300</td>\n",
       "      <td>-65.012600</td>\n",
       "    </tr>\n",
       "    <tr>\n",
       "      <th>13</th>\n",
       "      <td>15192</td>\n",
       "      <td>OBSTRUCTION</td>\n",
       "      <td>Wreck - Submerged, nondangerous</td>\n",
       "      <td>18.253222</td>\n",
       "      <td>-64.977833</td>\n",
       "    </tr>\n",
       "    <tr>\n",
       "      <th>14</th>\n",
       "      <td>15193</td>\n",
       "      <td>OBSTRUCTION</td>\n",
       "      <td>Wreck - Submerged, nondangerous</td>\n",
       "      <td>18.261361</td>\n",
       "      <td>-64.941250</td>\n",
       "    </tr>\n",
       "  </tbody>\n",
       "</table>\n",
       "</div>"
      ],
      "text/plain": [
       "    RECRD        VESSLTERMS                     FEATURE_TYPE     LATDEC  \\\n",
       "0   15083             WRECK  Wreck - Submerged, nondangerous  18.448611   \n",
       "1   10864    HMS LOWESTOFFE  Wreck - Submerged, nondangerous  21.515556   \n",
       "2       3         FERNGARTH  Wreck - Submerged, nondangerous  18.386675   \n",
       "3   13785           UNKNOWN  Wreck - Submerged, nondangerous  18.481217   \n",
       "4   13786           UNKNOWN  Wreck - Submerged, nondangerous  18.484647   \n",
       "5    2751     ANTONIO LOPEZ  Wreck - Submerged, nondangerous  18.478583   \n",
       "6    3160  JE CROIS EN DIUE  Wreck - Submerged, nondangerous  18.666667   \n",
       "7    3162           JOHANNE  Wreck - Submerged, nondangerous  19.000000   \n",
       "8    2942     EASTERN CLOUD  Wreck - Submerged, nondangerous  22.417111   \n",
       "9    7783            CARIBE  Wreck - Submerged, nondangerous  18.681325   \n",
       "10  15081             WRECK  Wreck - Submerged, nondangerous  18.500000   \n",
       "11  15190       OBSTRUCTION  Wreck - Submerged, nondangerous  18.270100   \n",
       "12  15191       OBSTRUCTION  Wreck - Submerged, nondangerous  18.255300   \n",
       "13  15192       OBSTRUCTION  Wreck - Submerged, nondangerous  18.253222   \n",
       "14  15193       OBSTRUCTION  Wreck - Submerged, nondangerous  18.261361   \n",
       "\n",
       "       LONDEC  \n",
       "0  -65.599444  \n",
       "1  -72.884444  \n",
       "2  -75.003183  \n",
       "3  -66.132017  \n",
       "4  -66.125219  \n",
       "5  -66.231083  \n",
       "6  -73.100000  \n",
       "7  -73.000000  \n",
       "8  -74.499283  \n",
       "9  -66.166278  \n",
       "10 -65.800000  \n",
       "11 -65.017800  \n",
       "12 -65.012600  \n",
       "13 -64.977833  \n",
       "14 -64.941250  "
      ]
     },
     "execution_count": 12,
     "metadata": {},
     "output_type": "execute_result"
    }
   ],
   "source": [
    "# Importing test csv to run through api \n",
    "test_df = pd.read_csv('Resources/testing.csv')\n",
    "test_df"
   ]
  },
  {
   "cell_type": "code",
   "execution_count": 13,
   "metadata": {},
   "outputs": [],
   "source": [
    "site_name = []\n",
    "site_id = []\n",
    "distance = []"
   ]
  },
  {
   "cell_type": "code",
   "execution_count": 17,
   "metadata": {},
   "outputs": [],
   "source": [
    "for index, row in test_df.iterrows():\n",
    "    latitude = str(row[\"LATDEC\"])\n",
    "    longitude = str(row[\"LONDEC\"])\n",
    "    \n",
    "    url = 'http://api.divesites.com/?mode=sites'\n",
    "    query_url = url + '&lat=' + latitude + '&lng=' + longitude + '&dist=25'\n",
    "    \n",
    "    response =  requests.get(query_url)\n",
    "    response_json = response.json()\n",
    "    \n",
    "    try:\n",
    "        site_name.append(response_json[\"sites\"][0][\"name\"])\n",
    "        site_id.append(response_json[\"sites\"][0][\"id\"])\n",
    "        distance.append(response_json[\"sites\"][0][\"distance\"])\n",
    "    except IndexError:\n",
    "        site_name.append(np.nan)\n",
    "        site_id.append(np.nan)\n",
    "        distance.append(np.nan)"
   ]
  },
  {
   "cell_type": "code",
   "execution_count": 18,
   "metadata": {},
   "outputs": [
    {
     "data": {
      "text/plain": [
       "['Rat Island',\n",
       " nan,\n",
       " nan,\n",
       " 'Escambro',\n",
       " 'Escambro',\n",
       " 'Escambro',\n",
       " nan,\n",
       " nan,\n",
       " nan,\n",
       " 'Escambro',\n",
       " 'Seven Seas',\n",
       " 'Charlotte Amalie',\n",
       " 'Charlotte Amalie',\n",
       " 'Charlotte Amalie',\n",
       " 'Wye Reef',\n",
       " 'Rat Island',\n",
       " nan,\n",
       " nan,\n",
       " 'Escambro',\n",
       " 'Escambro',\n",
       " 'Escambro',\n",
       " nan,\n",
       " nan,\n",
       " nan,\n",
       " 'Escambro',\n",
       " 'Seven Seas',\n",
       " 'Charlotte Amalie',\n",
       " 'Charlotte Amalie',\n",
       " 'Charlotte Amalie',\n",
       " 'Wye Reef']"
      ]
     },
     "execution_count": 18,
     "metadata": {},
     "output_type": "execute_result"
    }
   ],
   "source": [
    "site_name"
   ]
  },
  {
   "cell_type": "markdown",
   "metadata": {},
   "source": [
    "<h3> Running with Wrecks Data"
   ]
  },
  {
   "cell_type": "code",
   "execution_count": 3,
   "metadata": {},
   "outputs": [
    {
     "data": {
      "text/html": [
       "<div>\n",
       "<style scoped>\n",
       "    .dataframe tbody tr th:only-of-type {\n",
       "        vertical-align: middle;\n",
       "    }\n",
       "\n",
       "    .dataframe tbody tr th {\n",
       "        vertical-align: top;\n",
       "    }\n",
       "\n",
       "    .dataframe thead th {\n",
       "        text-align: right;\n",
       "    }\n",
       "</style>\n",
       "<table border=\"1\" class=\"dataframe\">\n",
       "  <thead>\n",
       "    <tr style=\"text-align: right;\">\n",
       "      <th></th>\n",
       "      <th>Record #</th>\n",
       "      <th>Vessel Terms</th>\n",
       "      <th>Feature Type</th>\n",
       "      <th>Lat</th>\n",
       "      <th>Lng</th>\n",
       "      <th>GP Quality</th>\n",
       "    </tr>\n",
       "  </thead>\n",
       "  <tbody>\n",
       "    <tr>\n",
       "      <th>0</th>\n",
       "      <td>14620</td>\n",
       "      <td>UNKNOWN</td>\n",
       "      <td>Wreck - Submerged, dangerous to surface naviga...</td>\n",
       "      <td>42.143528</td>\n",
       "      <td>-80.114556</td>\n",
       "      <td>High</td>\n",
       "    </tr>\n",
       "    <tr>\n",
       "      <th>1</th>\n",
       "      <td>14292</td>\n",
       "      <td>UNKNOWN</td>\n",
       "      <td>Wreck - Submerged, dangerous to surface naviga...</td>\n",
       "      <td>41.498284</td>\n",
       "      <td>-81.759593</td>\n",
       "      <td>High</td>\n",
       "    </tr>\n",
       "    <tr>\n",
       "      <th>2</th>\n",
       "      <td>14296</td>\n",
       "      <td>ALGERIA</td>\n",
       "      <td>Wreck - Submerged, dangerous to surface naviga...</td>\n",
       "      <td>41.520448</td>\n",
       "      <td>-81.716076</td>\n",
       "      <td>High</td>\n",
       "    </tr>\n",
       "    <tr>\n",
       "      <th>3</th>\n",
       "      <td>14298</td>\n",
       "      <td>UNKNOWN</td>\n",
       "      <td>Wreck - Submerged, dangerous to surface naviga...</td>\n",
       "      <td>41.512713</td>\n",
       "      <td>-81.709879</td>\n",
       "      <td>High</td>\n",
       "    </tr>\n",
       "    <tr>\n",
       "      <th>4</th>\n",
       "      <td>14207</td>\n",
       "      <td>UNKNOWN</td>\n",
       "      <td>Wreck - Submerged, dangerous to surface naviga...</td>\n",
       "      <td>42.993389</td>\n",
       "      <td>-82.426583</td>\n",
       "      <td>High</td>\n",
       "    </tr>\n",
       "  </tbody>\n",
       "</table>\n",
       "</div>"
      ],
      "text/plain": [
       "   Record # Vessel Terms                                       Feature Type  \\\n",
       "0     14620      UNKNOWN  Wreck - Submerged, dangerous to surface naviga...   \n",
       "1     14292      UNKNOWN  Wreck - Submerged, dangerous to surface naviga...   \n",
       "2     14296      ALGERIA  Wreck - Submerged, dangerous to surface naviga...   \n",
       "3     14298      UNKNOWN  Wreck - Submerged, dangerous to surface naviga...   \n",
       "4     14207      UNKNOWN  Wreck - Submerged, dangerous to surface naviga...   \n",
       "\n",
       "         Lat        Lng GP Quality  \n",
       "0  42.143528 -80.114556       High  \n",
       "1  41.498284 -81.759593       High  \n",
       "2  41.520448 -81.716076       High  \n",
       "3  41.512713 -81.709879       High  \n",
       "4  42.993389 -82.426583       High  "
      ]
     },
     "execution_count": 3,
     "metadata": {},
     "output_type": "execute_result"
    }
   ],
   "source": [
    "wrecks_cleaned_df = pd.read_csv('Resources/wrecks_cleaned.csv')\n",
    "wrecks_cleaned_df.head()"
   ]
  },
  {
   "cell_type": "code",
   "execution_count": 4,
   "metadata": {},
   "outputs": [],
   "source": [
    "site_name = []\n",
    "site_id = []\n",
    "distance = []"
   ]
  },
  {
   "cell_type": "code",
   "execution_count": 6,
   "metadata": {},
   "outputs": [],
   "source": [
    "for index, row in wrecks_cleaned_df.iterrows():\n",
    "    latitude = str(row[\"Lat\"])\n",
    "    longitude = str(row[\"Lng\"])\n",
    "    \n",
    "    url = 'http://api.divesites.com/?mode=sites'\n",
    "    query_url = url + '&lat=' + latitude + '&lng=' + longitude + '&dist=25'\n",
    "    \n",
    "    response =  requests.get(query_url)\n",
    "    response_json = response.json()\n",
    "    \n",
    "    try:\n",
    "        site_name.append(response_json[\"sites\"][0][\"name\"])\n",
    "        site_id.append(response_json[\"sites\"][0][\"id\"])\n",
    "        distance.append(response_json[\"sites\"][0][\"distance\"])\n",
    "    except IndexError:\n",
    "        site_name.append(np.nan)\n",
    "        site_id.append(np.nan)\n",
    "        distance.append(np.nan)"
   ]
  },
  {
   "cell_type": "code",
   "execution_count": 8,
   "metadata": {},
   "outputs": [],
   "source": [
    "dive_sites_data_df = wrecks_cleaned_df"
   ]
  },
  {
   "cell_type": "code",
   "execution_count": 15,
   "metadata": {},
   "outputs": [],
   "source": [
    "dive_sites_data_df[\"Dive Site Name\"] = site_name\n",
    "dive_sites_data_df[\"Dive Site ID\"] = site_id\n",
    "dive_sites_data_df[\"Distance from Wreck\"] = distance"
   ]
  },
  {
   "cell_type": "code",
   "execution_count": 18,
   "metadata": {},
   "outputs": [
    {
     "data": {
      "text/html": [
       "<div>\n",
       "<style scoped>\n",
       "    .dataframe tbody tr th:only-of-type {\n",
       "        vertical-align: middle;\n",
       "    }\n",
       "\n",
       "    .dataframe tbody tr th {\n",
       "        vertical-align: top;\n",
       "    }\n",
       "\n",
       "    .dataframe thead th {\n",
       "        text-align: right;\n",
       "    }\n",
       "</style>\n",
       "<table border=\"1\" class=\"dataframe\">\n",
       "  <thead>\n",
       "    <tr style=\"text-align: right;\">\n",
       "      <th></th>\n",
       "      <th>Record #</th>\n",
       "      <th>Vessel Terms</th>\n",
       "      <th>Feature Type</th>\n",
       "      <th>Lat</th>\n",
       "      <th>Lng</th>\n",
       "      <th>GP Quality</th>\n",
       "      <th>Dive Site Name</th>\n",
       "      <th>Dive Site ID</th>\n",
       "      <th>Distance from Wreck</th>\n",
       "    </tr>\n",
       "  </thead>\n",
       "  <tbody>\n",
       "    <tr>\n",
       "      <th>0</th>\n",
       "      <td>14620</td>\n",
       "      <td>UNKNOWN</td>\n",
       "      <td>Wreck - Submerged, dangerous to surface naviga...</td>\n",
       "      <td>42.143528</td>\n",
       "      <td>-80.114556</td>\n",
       "      <td>High</td>\n",
       "      <td>Presque Isle</td>\n",
       "      <td>23369</td>\n",
       "      <td>1.97</td>\n",
       "    </tr>\n",
       "    <tr>\n",
       "      <th>1</th>\n",
       "      <td>14292</td>\n",
       "      <td>UNKNOWN</td>\n",
       "      <td>Wreck - Submerged, dangerous to surface naviga...</td>\n",
       "      <td>41.498284</td>\n",
       "      <td>-81.759593</td>\n",
       "      <td>High</td>\n",
       "      <td>Mecosta</td>\n",
       "      <td>23908</td>\n",
       "      <td>17.20</td>\n",
       "    </tr>\n",
       "    <tr>\n",
       "      <th>2</th>\n",
       "      <td>14296</td>\n",
       "      <td>ALGERIA</td>\n",
       "      <td>Wreck - Submerged, dangerous to surface naviga...</td>\n",
       "      <td>41.520448</td>\n",
       "      <td>-81.716076</td>\n",
       "      <td>High</td>\n",
       "      <td>Mecosta</td>\n",
       "      <td>23908</td>\n",
       "      <td>16.96</td>\n",
       "    </tr>\n",
       "    <tr>\n",
       "      <th>3</th>\n",
       "      <td>14298</td>\n",
       "      <td>UNKNOWN</td>\n",
       "      <td>Wreck - Submerged, dangerous to surface naviga...</td>\n",
       "      <td>41.512713</td>\n",
       "      <td>-81.709879</td>\n",
       "      <td>High</td>\n",
       "      <td>Mecosta</td>\n",
       "      <td>23908</td>\n",
       "      <td>16.34</td>\n",
       "    </tr>\n",
       "    <tr>\n",
       "      <th>4</th>\n",
       "      <td>14207</td>\n",
       "      <td>UNKNOWN</td>\n",
       "      <td>Wreck - Submerged, dangerous to surface naviga...</td>\n",
       "      <td>42.993389</td>\n",
       "      <td>-82.426583</td>\n",
       "      <td>High</td>\n",
       "      <td>St. Clair River</td>\n",
       "      <td>22589</td>\n",
       "      <td>0.10</td>\n",
       "    </tr>\n",
       "  </tbody>\n",
       "</table>\n",
       "</div>"
      ],
      "text/plain": [
       "   Record # Vessel Terms                                       Feature Type  \\\n",
       "0     14620      UNKNOWN  Wreck - Submerged, dangerous to surface naviga...   \n",
       "1     14292      UNKNOWN  Wreck - Submerged, dangerous to surface naviga...   \n",
       "2     14296      ALGERIA  Wreck - Submerged, dangerous to surface naviga...   \n",
       "3     14298      UNKNOWN  Wreck - Submerged, dangerous to surface naviga...   \n",
       "4     14207      UNKNOWN  Wreck - Submerged, dangerous to surface naviga...   \n",
       "\n",
       "         Lat        Lng GP Quality   Dive Site Name Dive Site ID  \\\n",
       "0  42.143528 -80.114556       High     Presque Isle        23369   \n",
       "1  41.498284 -81.759593       High          Mecosta        23908   \n",
       "2  41.520448 -81.716076       High          Mecosta        23908   \n",
       "3  41.512713 -81.709879       High          Mecosta        23908   \n",
       "4  42.993389 -82.426583       High  St. Clair River        22589   \n",
       "\n",
       "  Distance from Wreck  \n",
       "0                1.97  \n",
       "1               17.20  \n",
       "2               16.96  \n",
       "3               16.34  \n",
       "4                0.10  "
      ]
     },
     "execution_count": 18,
     "metadata": {},
     "output_type": "execute_result"
    }
   ],
   "source": [
    "dive_sites_data_df.head()"
   ]
  },
  {
   "cell_type": "code",
   "execution_count": 17,
   "metadata": {},
   "outputs": [],
   "source": [
    "dive_sites_data_df.to_csv('Resources/wrecks_and_sites.csv', index = False)"
   ]
  },
  {
   "cell_type": "markdown",
   "metadata": {},
   "source": [
    "<h3> Running with Obstruction Data"
   ]
  },
  {
   "cell_type": "code",
   "execution_count": 3,
   "metadata": {},
   "outputs": [
    {
     "data": {
      "text/html": [
       "<div>\n",
       "<style scoped>\n",
       "    .dataframe tbody tr th:only-of-type {\n",
       "        vertical-align: middle;\n",
       "    }\n",
       "\n",
       "    .dataframe tbody tr th {\n",
       "        vertical-align: top;\n",
       "    }\n",
       "\n",
       "    .dataframe thead th {\n",
       "        text-align: right;\n",
       "    }\n",
       "</style>\n",
       "<table border=\"1\" class=\"dataframe\">\n",
       "  <thead>\n",
       "    <tr style=\"text-align: right;\">\n",
       "      <th></th>\n",
       "      <th>Record #</th>\n",
       "      <th>Vessel Terms</th>\n",
       "      <th>Feature Type</th>\n",
       "      <th>Lat</th>\n",
       "      <th>Lng</th>\n",
       "      <th>GP Quality</th>\n",
       "    </tr>\n",
       "  </thead>\n",
       "  <tbody>\n",
       "    <tr>\n",
       "      <th>0</th>\n",
       "      <td>54094.0</td>\n",
       "      <td>OBSTRUCTION</td>\n",
       "      <td>Obstruction - Submerged</td>\n",
       "      <td>55.934600</td>\n",
       "      <td>-155.540600</td>\n",
       "      <td>NaN</td>\n",
       "    </tr>\n",
       "    <tr>\n",
       "      <th>1</th>\n",
       "      <td>53696.0</td>\n",
       "      <td>OBSTRUCTION</td>\n",
       "      <td>Obstruction - Submerged</td>\n",
       "      <td>57.726444</td>\n",
       "      <td>-152.519500</td>\n",
       "      <td>High</td>\n",
       "    </tr>\n",
       "    <tr>\n",
       "      <th>2</th>\n",
       "      <td>53695.0</td>\n",
       "      <td>OBSTRUCTION</td>\n",
       "      <td>Obstruction - Submerged</td>\n",
       "      <td>57.721194</td>\n",
       "      <td>-152.526222</td>\n",
       "      <td>High</td>\n",
       "    </tr>\n",
       "    <tr>\n",
       "      <th>3</th>\n",
       "      <td>53719.0</td>\n",
       "      <td>OBSTRUCTION</td>\n",
       "      <td>Obstruction - Submerged</td>\n",
       "      <td>54.272833</td>\n",
       "      <td>-164.857167</td>\n",
       "      <td>Low</td>\n",
       "    </tr>\n",
       "    <tr>\n",
       "      <th>4</th>\n",
       "      <td>53721.0</td>\n",
       "      <td>OBSTRUCTION</td>\n",
       "      <td>Obstruction - Submerged</td>\n",
       "      <td>54.340000</td>\n",
       "      <td>-164.740167</td>\n",
       "      <td>Low</td>\n",
       "    </tr>\n",
       "  </tbody>\n",
       "</table>\n",
       "</div>"
      ],
      "text/plain": [
       "   Record # Vessel Terms             Feature Type        Lat         Lng  \\\n",
       "0   54094.0  OBSTRUCTION  Obstruction - Submerged  55.934600 -155.540600   \n",
       "1   53696.0  OBSTRUCTION  Obstruction - Submerged  57.726444 -152.519500   \n",
       "2   53695.0  OBSTRUCTION  Obstruction - Submerged  57.721194 -152.526222   \n",
       "3   53719.0  OBSTRUCTION  Obstruction - Submerged  54.272833 -164.857167   \n",
       "4   53721.0  OBSTRUCTION  Obstruction - Submerged  54.340000 -164.740167   \n",
       "\n",
       "  GP Quality  \n",
       "0        NaN  \n",
       "1       High  \n",
       "2       High  \n",
       "3        Low  \n",
       "4        Low  "
      ]
     },
     "execution_count": 3,
     "metadata": {},
     "output_type": "execute_result"
    }
   ],
   "source": [
    "obstruct_cleaned_df = pd.read_csv('Resources/obstruct_cleaned.csv')\n",
    "obstruct_cleaned_df.head()"
   ]
  },
  {
   "cell_type": "code",
   "execution_count": 4,
   "metadata": {},
   "outputs": [],
   "source": [
    "site_name = []\n",
    "site_id = []\n",
    "distance = []"
   ]
  },
  {
   "cell_type": "code",
   "execution_count": 6,
   "metadata": {},
   "outputs": [],
   "source": [
    "for index, row in obstruct_cleaned_df.iterrows():\n",
    "    latitude = str(row[\"Lat\"])\n",
    "    longitude = str(row[\"Lng\"])\n",
    "    \n",
    "    url = 'http://api.divesites.com/?mode=sites'\n",
    "    query_url = url + '&lat=' + latitude + '&lng=' + longitude + '&dist=25'\n",
    "    \n",
    "    response =  requests.get(query_url)\n",
    "    response_json = response.json()\n",
    "    \n",
    "    try:\n",
    "        site_name.append(response_json[\"sites\"][0][\"name\"])\n",
    "        site_id.append(response_json[\"sites\"][0][\"id\"])\n",
    "        distance.append(response_json[\"sites\"][0][\"distance\"])\n",
    "    except IndexError:\n",
    "        site_name.append(np.nan)\n",
    "        site_id.append(np.nan)\n",
    "        distance.append(np.nan)"
   ]
  },
  {
   "cell_type": "code",
   "execution_count": 12,
   "metadata": {},
   "outputs": [],
   "source": [
    "new_dive_sites_data_df = obstruct_cleaned_df"
   ]
  },
  {
   "cell_type": "code",
   "execution_count": 10,
   "metadata": {},
   "outputs": [],
   "source": [
    "new_dive_sites_data_df[\"Dive Site Name\"] = site_name\n",
    "new_dive_sites_data_df[\"Dive Site ID\"] = site_id\n",
    "new_dive_sites_data_df[\"Distance from Obstruction\"] = distance"
   ]
  },
  {
   "cell_type": "code",
   "execution_count": 13,
   "metadata": {},
   "outputs": [
    {
     "data": {
      "text/html": [
       "<div>\n",
       "<style scoped>\n",
       "    .dataframe tbody tr th:only-of-type {\n",
       "        vertical-align: middle;\n",
       "    }\n",
       "\n",
       "    .dataframe tbody tr th {\n",
       "        vertical-align: top;\n",
       "    }\n",
       "\n",
       "    .dataframe thead th {\n",
       "        text-align: right;\n",
       "    }\n",
       "</style>\n",
       "<table border=\"1\" class=\"dataframe\">\n",
       "  <thead>\n",
       "    <tr style=\"text-align: right;\">\n",
       "      <th></th>\n",
       "      <th>Record #</th>\n",
       "      <th>Vessel Terms</th>\n",
       "      <th>Feature Type</th>\n",
       "      <th>Lat</th>\n",
       "      <th>Lng</th>\n",
       "      <th>GP Quality</th>\n",
       "      <th>Dive Site Name</th>\n",
       "      <th>Dive Site ID</th>\n",
       "      <th>Distance from Obstruction</th>\n",
       "    </tr>\n",
       "  </thead>\n",
       "  <tbody>\n",
       "    <tr>\n",
       "      <th>0</th>\n",
       "      <td>54094.0</td>\n",
       "      <td>OBSTRUCTION</td>\n",
       "      <td>Obstruction - Submerged</td>\n",
       "      <td>55.934600</td>\n",
       "      <td>-155.540600</td>\n",
       "      <td>NaN</td>\n",
       "      <td>NaN</td>\n",
       "      <td>NaN</td>\n",
       "      <td>NaN</td>\n",
       "    </tr>\n",
       "    <tr>\n",
       "      <th>1</th>\n",
       "      <td>53696.0</td>\n",
       "      <td>OBSTRUCTION</td>\n",
       "      <td>Obstruction - Submerged</td>\n",
       "      <td>57.726444</td>\n",
       "      <td>-152.519500</td>\n",
       "      <td>High</td>\n",
       "      <td>NaN</td>\n",
       "      <td>NaN</td>\n",
       "      <td>NaN</td>\n",
       "    </tr>\n",
       "    <tr>\n",
       "      <th>2</th>\n",
       "      <td>53695.0</td>\n",
       "      <td>OBSTRUCTION</td>\n",
       "      <td>Obstruction - Submerged</td>\n",
       "      <td>57.721194</td>\n",
       "      <td>-152.526222</td>\n",
       "      <td>High</td>\n",
       "      <td>NaN</td>\n",
       "      <td>NaN</td>\n",
       "      <td>NaN</td>\n",
       "    </tr>\n",
       "    <tr>\n",
       "      <th>3</th>\n",
       "      <td>53719.0</td>\n",
       "      <td>OBSTRUCTION</td>\n",
       "      <td>Obstruction - Submerged</td>\n",
       "      <td>54.272833</td>\n",
       "      <td>-164.857167</td>\n",
       "      <td>Low</td>\n",
       "      <td>NaN</td>\n",
       "      <td>NaN</td>\n",
       "      <td>NaN</td>\n",
       "    </tr>\n",
       "    <tr>\n",
       "      <th>4</th>\n",
       "      <td>53721.0</td>\n",
       "      <td>OBSTRUCTION</td>\n",
       "      <td>Obstruction - Submerged</td>\n",
       "      <td>54.340000</td>\n",
       "      <td>-164.740167</td>\n",
       "      <td>Low</td>\n",
       "      <td>NaN</td>\n",
       "      <td>NaN</td>\n",
       "      <td>NaN</td>\n",
       "    </tr>\n",
       "  </tbody>\n",
       "</table>\n",
       "</div>"
      ],
      "text/plain": [
       "   Record # Vessel Terms             Feature Type        Lat         Lng  \\\n",
       "0   54094.0  OBSTRUCTION  Obstruction - Submerged  55.934600 -155.540600   \n",
       "1   53696.0  OBSTRUCTION  Obstruction - Submerged  57.726444 -152.519500   \n",
       "2   53695.0  OBSTRUCTION  Obstruction - Submerged  57.721194 -152.526222   \n",
       "3   53719.0  OBSTRUCTION  Obstruction - Submerged  54.272833 -164.857167   \n",
       "4   53721.0  OBSTRUCTION  Obstruction - Submerged  54.340000 -164.740167   \n",
       "\n",
       "  GP Quality Dive Site Name Dive Site ID Distance from Obstruction  \n",
       "0        NaN            NaN          NaN                       NaN  \n",
       "1       High            NaN          NaN                       NaN  \n",
       "2       High            NaN          NaN                       NaN  \n",
       "3        Low            NaN          NaN                       NaN  \n",
       "4        Low            NaN          NaN                       NaN  "
      ]
     },
     "execution_count": 13,
     "metadata": {},
     "output_type": "execute_result"
    }
   ],
   "source": [
    "new_dive_sites_data_df.head()"
   ]
  },
  {
   "cell_type": "code",
   "execution_count": 14,
   "metadata": {},
   "outputs": [],
   "source": [
    "new_dive_sites_data_df.to_csv('Resources/obstructs_and_sites.csv', index = False)"
   ]
  }
 ],
 "metadata": {
  "kernelspec": {
   "display_name": "Python 3",
   "language": "python",
   "name": "python3"
  },
  "language_info": {
   "codemirror_mode": {
    "name": "ipython",
    "version": 3
   },
   "file_extension": ".py",
   "mimetype": "text/x-python",
   "name": "python",
   "nbconvert_exporter": "python",
   "pygments_lexer": "ipython3",
   "version": "3.6.10"
  }
 },
 "nbformat": 4,
 "nbformat_minor": 4
}
